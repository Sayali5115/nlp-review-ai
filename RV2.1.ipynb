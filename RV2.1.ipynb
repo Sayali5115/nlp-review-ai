{
 "cells": [
  {
   "cell_type": "code",
   "execution_count": 1,
   "id": "0bb378ea",
   "metadata": {},
   "outputs": [
    {
     "name": "stderr",
     "output_type": "stream",
     "text": [
      "None of PyTorch, TensorFlow >= 2.0, or Flax have been found. Models won't be available and only tokenizers, configuration and file/data utilities can be used.\n"
     ]
    },
    {
     "name": "stdout",
     "output_type": "stream",
     "text": [
      "It works!\n"
     ]
    }
   ],
   "source": [
    "import nltk\n",
    "import spacy\n",
    "import transformers\n",
    "print(\"It works!\")\n"
   ]
  },
  {
   "cell_type": "code",
   "execution_count": 1,
   "id": "f948f96f",
   "metadata": {},
   "outputs": [
    {
     "name": "stdout",
     "output_type": "stream",
     "text": [
      "2.7.1+cpu\n",
      "False\n"
     ]
    }
   ],
   "source": [
    "import torch\n",
    "print(torch.__version__)\n",
    "print(torch.cuda.is_available())\n"
   ]
  },
  {
   "cell_type": "code",
   "execution_count": 2,
   "id": "32b3ceb6",
   "metadata": {},
   "outputs": [
    {
     "name": "stdout",
     "output_type": "stream",
     "text": [
      "✅ All core libraries are installed!\n",
      "Torch version: 2.7.1+cpu\n",
      "CUDA available: False\n"
     ]
    }
   ],
   "source": [
    "import numpy\n",
    "import pandas\n",
    "import matplotlib\n",
    "import sklearn\n",
    "import nltk\n",
    "import spacy\n",
    "import transformers\n",
    "import torch\n",
    "import requests\n",
    "import bs4\n",
    "\n",
    "print(\"✅ All core libraries are installed!\")\n",
    "print(\"Torch version:\", torch.__version__)\n",
    "print(\"CUDA available:\", torch.cuda.is_available())\n"
   ]
  },
  {
   "cell_type": "code",
   "execution_count": 3,
   "id": "8c631e3d",
   "metadata": {},
   "outputs": [
    {
     "name": "stdout",
     "output_type": "stream",
     "text": [
      "spaCy English model: ❌ not found (you can install it)\n",
      "NLTK punkt tokenizer: ❌ not found (you can download it)\n"
     ]
    }
   ],
   "source": [
    "# Check if spaCy's English model is installed\n",
    "try:\n",
    "    nlp = spacy.load(\"en_core_web_sm\")\n",
    "    print(\"spaCy English model: ✅ loaded\")\n",
    "except:\n",
    "    print(\"spaCy English model: ❌ not found (you can install it)\")\n",
    "\n",
    "# Check if nltk data is downloaded\n",
    "try:\n",
    "    nltk.data.find(\"tokenizers/punkt\")\n",
    "    print(\"NLTK punkt tokenizer: ✅ available\")\n",
    "except:\n",
    "    print(\"NLTK punkt tokenizer: ❌ not found (you can download it)\")\n"
   ]
  },
  {
   "cell_type": "code",
   "execution_count": 4,
   "id": "74613b56",
   "metadata": {},
   "outputs": [
    {
     "name": "stdout",
     "output_type": "stream",
     "text": [
      "✅ spaCy model loaded\n",
      "✅ NLTK punkt tokenizer available\n"
     ]
    }
   ],
   "source": [
    "import spacy\n",
    "import nltk\n",
    "\n",
    "# Check spaCy model\n",
    "nlp = spacy.load(\"en_core_web_sm\")\n",
    "print(\"✅ spaCy model loaded\")\n",
    "\n",
    "# Check nltk tokenizer\n",
    "nltk.data.find(\"tokenizers/punkt\")\n",
    "print(\"✅ NLTK punkt tokenizer available\")\n"
   ]
  }
 ],
 "metadata": {
  "kernelspec": {
   "display_name": "venv",
   "language": "python",
   "name": "python3"
  },
  "language_info": {
   "codemirror_mode": {
    "name": "ipython",
    "version": 3
   },
   "file_extension": ".py",
   "mimetype": "text/x-python",
   "name": "python",
   "nbconvert_exporter": "python",
   "pygments_lexer": "ipython3",
   "version": "3.11.0"
  }
 },
 "nbformat": 4,
 "nbformat_minor": 5
}
