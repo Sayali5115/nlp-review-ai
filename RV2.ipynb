{
 "cells": [
  {
   "cell_type": "code",
   "execution_count": 1,
   "id": "ca77c95e",
   "metadata": {},
   "outputs": [
    {
     "name": "stderr",
     "output_type": "stream",
     "text": [
      "[nltk_data] Downloading package vader_lexicon to\n",
      "[nltk_data]     /Users/kardam/nltk_data...\n"
     ]
    }
   ],
   "source": [
    "import pandas as pd\n",
    "import numpy as np\n",
    "import re\n",
    "from textblob import TextBlob\n",
    "import nltk\n",
    "nltk.download('vader_lexicon')\n",
    "from nltk.sentiment.vader import SentimentIntensityAnalyzer\n",
    "import matplotlib.pyplot as plt\n",
    "import seaborn as sns"
   ]
  },
  {
   "cell_type": "code",
   "execution_count": 2,
   "id": "42720777",
   "metadata": {},
   "outputs": [],
   "source": [
    "def clean_text(text):\n",
    "    text = text.lower()\n",
    "    text = re.sub(r\"http\\S+\", \"\", text)  # remove URLs\n",
    "    text = re.sub(r\"[^a-zA-Z\\s]\", \"\", text)  # remove punctuation\n",
    "    text = re.sub(r\"\\s+\", \" \", text)  # remove extra whitespace\n",
    "    return text.strip()\n"
   ]
  },
  {
   "cell_type": "code",
   "execution_count": 3,
   "id": "1775cf99",
   "metadata": {},
   "outputs": [
    {
     "data": {
      "text/html": [
       "<div>\n",
       "<style scoped>\n",
       "    .dataframe tbody tr th:only-of-type {\n",
       "        vertical-align: middle;\n",
       "    }\n",
       "\n",
       "    .dataframe tbody tr th {\n",
       "        vertical-align: top;\n",
       "    }\n",
       "\n",
       "    .dataframe thead th {\n",
       "        text-align: right;\n",
       "    }\n",
       "</style>\n",
       "<table border=\"1\" class=\"dataframe\">\n",
       "  <thead>\n",
       "    <tr style=\"text-align: right;\">\n",
       "      <th></th>\n",
       "      <th>Original_Review</th>\n",
       "      <th>Cleaned_Review</th>\n",
       "    </tr>\n",
       "  </thead>\n",
       "  <tbody>\n",
       "    <tr>\n",
       "      <th>0</th>\n",
       "      <td>Kwatra Legal LLP is the best Trademark registr...</td>\n",
       "      <td>kwatra legal llp is the best trademark registr...</td>\n",
       "    </tr>\n",
       "    <tr>\n",
       "      <th>1</th>\n",
       "      <td>They delayed my Trademark objection and I had ...</td>\n",
       "      <td>they delayed my trademark objection and i had ...</td>\n",
       "    </tr>\n",
       "    <tr>\n",
       "      <th>2</th>\n",
       "      <td>Their FSSAI service was great, but the Tradema...</td>\n",
       "      <td>their fssai service was great but the trademar...</td>\n",
       "    </tr>\n",
       "    <tr>\n",
       "      <th>3</th>\n",
       "      <td>Super professional and helpful IPR team!</td>\n",
       "      <td>super professional and helpful ipr team</td>\n",
       "    </tr>\n",
       "    <tr>\n",
       "      <th>4</th>\n",
       "      <td>Disappointed by how long it took to receive up...</td>\n",
       "      <td>disappointed by how long it took to receive up...</td>\n",
       "    </tr>\n",
       "  </tbody>\n",
       "</table>\n",
       "</div>"
      ],
      "text/plain": [
       "                                     Original_Review  \\\n",
       "0  Kwatra Legal LLP is the best Trademark registr...   \n",
       "1  They delayed my Trademark objection and I had ...   \n",
       "2  Their FSSAI service was great, but the Tradema...   \n",
       "3           Super professional and helpful IPR team!   \n",
       "4  Disappointed by how long it took to receive up...   \n",
       "\n",
       "                                      Cleaned_Review  \n",
       "0  kwatra legal llp is the best trademark registr...  \n",
       "1  they delayed my trademark objection and i had ...  \n",
       "2  their fssai service was great but the trademar...  \n",
       "3            super professional and helpful ipr team  \n",
       "4  disappointed by how long it took to receive up...  "
      ]
     },
     "execution_count": 3,
     "metadata": {},
     "output_type": "execute_result"
    }
   ],
   "source": [
    "reviews = [\n",
    "    \"Kwatra Legal LLP is the best Trademark registration firm I’ve come across.\",\n",
    "    \"They delayed my Trademark objection and I had to follow up repeatedly.\",\n",
    "    \"Their FSSAI service was great, but the Trademark process was confusing.\",\n",
    "    \"Super professional and helpful IPR team!\",\n",
    "    \"Disappointed by how long it took to receive updates.\",\n",
    "]\n",
    "\n",
    "df = pd.DataFrame(reviews, columns=[\"Original_Review\"])\n",
    "df[\"Cleaned_Review\"] = df[\"Original_Review\"].apply(clean_text)\n",
    "df.head()\n"
   ]
  },
  {
   "cell_type": "code",
   "execution_count": 4,
   "id": "1390bf1d",
   "metadata": {},
   "outputs": [
    {
     "data": {
      "text/html": [
       "<div>\n",
       "<style scoped>\n",
       "    .dataframe tbody tr th:only-of-type {\n",
       "        vertical-align: middle;\n",
       "    }\n",
       "\n",
       "    .dataframe tbody tr th {\n",
       "        vertical-align: top;\n",
       "    }\n",
       "\n",
       "    .dataframe thead th {\n",
       "        text-align: right;\n",
       "    }\n",
       "</style>\n",
       "<table border=\"1\" class=\"dataframe\">\n",
       "  <thead>\n",
       "    <tr style=\"text-align: right;\">\n",
       "      <th></th>\n",
       "      <th>Original_Review</th>\n",
       "      <th>Cleaned_Review</th>\n",
       "      <th>Polarity</th>\n",
       "      <th>Subjectivity</th>\n",
       "      <th>VADER_Compound</th>\n",
       "      <th>Sentiment</th>\n",
       "    </tr>\n",
       "  </thead>\n",
       "  <tbody>\n",
       "    <tr>\n",
       "      <th>0</th>\n",
       "      <td>Kwatra Legal LLP is the best Trademark registr...</td>\n",
       "      <td>kwatra legal llp is the best trademark registr...</td>\n",
       "      <td>0.333333</td>\n",
       "      <td>0.300000</td>\n",
       "      <td>0.6908</td>\n",
       "      <td>Positive</td>\n",
       "    </tr>\n",
       "    <tr>\n",
       "      <th>1</th>\n",
       "      <td>They delayed my Trademark objection and I had ...</td>\n",
       "      <td>they delayed my trademark objection and i had ...</td>\n",
       "      <td>0.000000</td>\n",
       "      <td>0.000000</td>\n",
       "      <td>-0.2263</td>\n",
       "      <td>Neutral</td>\n",
       "    </tr>\n",
       "    <tr>\n",
       "      <th>2</th>\n",
       "      <td>Their FSSAI service was great, but the Tradema...</td>\n",
       "      <td>their fssai service was great but the trademar...</td>\n",
       "      <td>0.250000</td>\n",
       "      <td>0.575000</td>\n",
       "      <td>0.0516</td>\n",
       "      <td>Positive</td>\n",
       "    </tr>\n",
       "    <tr>\n",
       "      <th>3</th>\n",
       "      <td>Super professional and helpful IPR team!</td>\n",
       "      <td>super professional and helpful ipr team</td>\n",
       "      <td>0.216667</td>\n",
       "      <td>0.383333</td>\n",
       "      <td>0.7717</td>\n",
       "      <td>Positive</td>\n",
       "    </tr>\n",
       "    <tr>\n",
       "      <th>4</th>\n",
       "      <td>Disappointed by how long it took to receive up...</td>\n",
       "      <td>disappointed by how long it took to receive up...</td>\n",
       "      <td>-0.400000</td>\n",
       "      <td>0.575000</td>\n",
       "      <td>-0.4767</td>\n",
       "      <td>Negative</td>\n",
       "    </tr>\n",
       "  </tbody>\n",
       "</table>\n",
       "</div>"
      ],
      "text/plain": [
       "                                     Original_Review  \\\n",
       "0  Kwatra Legal LLP is the best Trademark registr...   \n",
       "1  They delayed my Trademark objection and I had ...   \n",
       "2  Their FSSAI service was great, but the Tradema...   \n",
       "3           Super professional and helpful IPR team!   \n",
       "4  Disappointed by how long it took to receive up...   \n",
       "\n",
       "                                      Cleaned_Review  Polarity  Subjectivity  \\\n",
       "0  kwatra legal llp is the best trademark registr...  0.333333      0.300000   \n",
       "1  they delayed my trademark objection and i had ...  0.000000      0.000000   \n",
       "2  their fssai service was great but the trademar...  0.250000      0.575000   \n",
       "3            super professional and helpful ipr team  0.216667      0.383333   \n",
       "4  disappointed by how long it took to receive up... -0.400000      0.575000   \n",
       "\n",
       "   VADER_Compound Sentiment  \n",
       "0          0.6908  Positive  \n",
       "1         -0.2263   Neutral  \n",
       "2          0.0516  Positive  \n",
       "3          0.7717  Positive  \n",
       "4         -0.4767  Negative  "
      ]
     },
     "execution_count": 4,
     "metadata": {},
     "output_type": "execute_result"
    }
   ],
   "source": [
    "# Initialize VADER\n",
    "sia = SentimentIntensityAnalyzer()\n",
    "\n",
    "def analyze_sentiment(text):\n",
    "    # TextBlob Scores\n",
    "    blob = TextBlob(text)\n",
    "    polarity = blob.sentiment.polarity\n",
    "    subjectivity = blob.sentiment.subjectivity\n",
    "\n",
    "    # VADER Scores\n",
    "    vader_scores = sia.polarity_scores(text)\n",
    "    vader_compound = vader_scores['compound']\n",
    "\n",
    "    # Sentiment Label Logic (TextBlob)\n",
    "    if polarity > 0.1:\n",
    "        sentiment = \"Positive\"\n",
    "    elif polarity < -0.1:\n",
    "        sentiment = \"Negative\"\n",
    "    else:\n",
    "        sentiment = \"Neutral\"\n",
    "\n",
    "    return pd.Series([polarity, subjectivity, vader_compound, sentiment])\n",
    "\n",
    "df[[\"Polarity\", \"Subjectivity\", \"VADER_Compound\", \"Sentiment\"]] = df[\"Cleaned_Review\"].apply(analyze_sentiment)\n",
    "df\n"
   ]
  },
  {
   "cell_type": "code",
   "execution_count": 7,
   "id": "28e962b4",
   "metadata": {},
   "outputs": [
    {
     "data": {
      "text/html": [
       "<div>\n",
       "<style scoped>\n",
       "    .dataframe tbody tr th:only-of-type {\n",
       "        vertical-align: middle;\n",
       "    }\n",
       "\n",
       "    .dataframe tbody tr th {\n",
       "        vertical-align: top;\n",
       "    }\n",
       "\n",
       "    .dataframe thead th {\n",
       "        text-align: right;\n",
       "    }\n",
       "</style>\n",
       "<table border=\"1\" class=\"dataframe\">\n",
       "  <thead>\n",
       "    <tr style=\"text-align: right;\">\n",
       "      <th></th>\n",
       "      <th>Original_Review</th>\n",
       "      <th>Cleaned_Review</th>\n",
       "      <th>Polarity</th>\n",
       "      <th>Subjectivity</th>\n",
       "      <th>VADER_Compound</th>\n",
       "      <th>Sentiment</th>\n",
       "      <th>Confidence_Score</th>\n",
       "    </tr>\n",
       "  </thead>\n",
       "  <tbody>\n",
       "    <tr>\n",
       "      <th>0</th>\n",
       "      <td>Kwatra Legal LLP is the best Trademark registr...</td>\n",
       "      <td>kwatra legal llp is the best trademark registr...</td>\n",
       "      <td>0.333333</td>\n",
       "      <td>0.300000</td>\n",
       "      <td>0.6908</td>\n",
       "      <td>Positive</td>\n",
       "      <td>0.51</td>\n",
       "    </tr>\n",
       "    <tr>\n",
       "      <th>1</th>\n",
       "      <td>They delayed my Trademark objection and I had ...</td>\n",
       "      <td>they delayed my trademark objection and i had ...</td>\n",
       "      <td>0.000000</td>\n",
       "      <td>0.000000</td>\n",
       "      <td>-0.2263</td>\n",
       "      <td>Neutral</td>\n",
       "      <td>0.11</td>\n",
       "    </tr>\n",
       "    <tr>\n",
       "      <th>2</th>\n",
       "      <td>Their FSSAI service was great, but the Tradema...</td>\n",
       "      <td>their fssai service was great but the trademar...</td>\n",
       "      <td>0.250000</td>\n",
       "      <td>0.575000</td>\n",
       "      <td>0.0516</td>\n",
       "      <td>Positive</td>\n",
       "      <td>0.15</td>\n",
       "    </tr>\n",
       "    <tr>\n",
       "      <th>3</th>\n",
       "      <td>Super professional and helpful IPR team!</td>\n",
       "      <td>super professional and helpful ipr team</td>\n",
       "      <td>0.216667</td>\n",
       "      <td>0.383333</td>\n",
       "      <td>0.7717</td>\n",
       "      <td>Positive</td>\n",
       "      <td>0.49</td>\n",
       "    </tr>\n",
       "    <tr>\n",
       "      <th>4</th>\n",
       "      <td>Disappointed by how long it took to receive up...</td>\n",
       "      <td>disappointed by how long it took to receive up...</td>\n",
       "      <td>-0.400000</td>\n",
       "      <td>0.575000</td>\n",
       "      <td>-0.4767</td>\n",
       "      <td>Negative</td>\n",
       "      <td>0.44</td>\n",
       "    </tr>\n",
       "  </tbody>\n",
       "</table>\n",
       "</div>"
      ],
      "text/plain": [
       "                                     Original_Review  \\\n",
       "0  Kwatra Legal LLP is the best Trademark registr...   \n",
       "1  They delayed my Trademark objection and I had ...   \n",
       "2  Their FSSAI service was great, but the Tradema...   \n",
       "3           Super professional and helpful IPR team!   \n",
       "4  Disappointed by how long it took to receive up...   \n",
       "\n",
       "                                      Cleaned_Review  Polarity  Subjectivity  \\\n",
       "0  kwatra legal llp is the best trademark registr...  0.333333      0.300000   \n",
       "1  they delayed my trademark objection and i had ...  0.000000      0.000000   \n",
       "2  their fssai service was great but the trademar...  0.250000      0.575000   \n",
       "3            super professional and helpful ipr team  0.216667      0.383333   \n",
       "4  disappointed by how long it took to receive up... -0.400000      0.575000   \n",
       "\n",
       "   VADER_Compound Sentiment  Confidence_Score  \n",
       "0          0.6908  Positive              0.51  \n",
       "1         -0.2263   Neutral              0.11  \n",
       "2          0.0516  Positive              0.15  \n",
       "3          0.7717  Positive              0.49  \n",
       "4         -0.4767  Negative              0.44  "
      ]
     },
     "execution_count": 7,
     "metadata": {},
     "output_type": "execute_result"
    }
   ],
   "source": [
    "# Define a simple confidence metric based on absolute polarity and compound score\n",
    "def compute_confidence(row):\n",
    "    return round((abs(row['Polarity']) + abs(row['VADER_Compound'])) / 2, 2)\n",
    "\n",
    "df[\"Confidence_Score\"] = df.apply(compute_confidence, axis=1)\n",
    "df\n"
   ]
  },
  {
   "cell_type": "code",
   "execution_count": 8,
   "id": "eb4a650f",
   "metadata": {},
   "outputs": [
    {
     "data": {
      "image/png": "[encoded data removed]",
      "text/plain": [
       "<Figure size 600x400 with 1 Axes>"
      ]
     },
     "metadata": {},
     "output_type": "display_data"
    }
   ],
   "source": [
    "# Confidence Score Distribution\n",
    "plt.figure(figsize=(6,4))\n",
    "sns.histplot(df[\"Confidence_Score\"], bins=5, kde=True, color='green')\n",
    "plt.title(\"Sentiment Confidence Score Distribution\")\n",
    "plt.xlabel(\"Confidence Score\")\n",
    "plt.show()\n"
   ]
  },
  {
   "cell_type": "code",
   "execution_count": 5,
   "id": "cdccce7f",
   "metadata": {},
   "outputs": [
    {
     "name": "stderr",
     "output_type": "stream",
     "text": [
      "/var/folders/3k/lxgtmhmx4wx5k1lvynmj796r0000gn/T/ipykernel_13698/2366988761.py:2: FutureWarning: \n",
      "\n",
      "Passing `palette` without assigning `hue` is deprecated and will be removed in v0.14.0. Assign the `x` variable to `hue` and set `legend=False` for the same effect.\n",
      "\n",
      "  sns.countplot(data=df, x=\"Sentiment\", palette=\"Set2\")\n"
     ]
    },
    {
     "data": {
      "image/png": "[encoded data removed]",
      "text/plain": [
       "<Figure size 600x400 with 1 Axes>"
      ]
     },
     "metadata": {},
     "output_type": "display_data"
    }
   ],
   "source": [
    "plt.figure(figsize=(6,4))\n",
    "sns.countplot(data=df, x=\"Sentiment\", palette=\"Set2\")\n",
    "plt.title(\"Sentiment Distribution of Today's Reviews\")\n",
    "plt.xlabel(\"Sentiment\")\n",
    "plt.ylabel(\"Count\")\n",
    "plt.show()\n"
   ]
  },
  {
   "cell_type": "code",
   "execution_count": 6,
   "id": "0f723b37",
   "metadata": {},
   "outputs": [
    {
     "name": "stdout",
     "output_type": "stream",
     "text": [
      "✅ Exported: Client_Review_Sentiment_Report.csv\n"
     ]
    }
   ],
   "source": [
    "df.to_csv(\"Client_Review_Sentiment_Report.csv\", index=False)\n",
    "print(\"✅ Exported: Client_Review_Sentiment_Report.csv\")\n"
   ]
  },
  {
   "cell_type": "code",
   "execution_count": null,
   "id": "20eff6cc",
   "metadata": {},
   "outputs": [],
   "source": []
  }
 ],
 "metadata": {
  "kernelspec": {
   "display_name": "myenv",
   "language": "python",
   "name": "python3"
  },
  "language_info": {
   "codemirror_mode": {
    "name": "ipython",
    "version": 3
   },
   "file_extension": ".py",
   "mimetype": "text/x-python",
   "name": "python",
   "nbconvert_exporter": "python",
   "pygments_lexer": "ipython3",
   "version": "3.10.16"
  }
 },
 "nbformat": 4,
 "nbformat_minor": 5
}
